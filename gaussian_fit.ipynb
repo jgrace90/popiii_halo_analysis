{
 "cells": [
  {
   "cell_type": "code",
   "execution_count": 1,
   "metadata": {},
   "outputs": [],
   "source": [
    "import yt\n",
    "import ytree\n",
    "import matplotlib\n",
    "import matplotlib.pyplot as plt\n",
    "import numpy as np\n",
    "import seaborn as sns\n",
    "import sklearn\n",
    "from sklearn.preprocessing import StandardScaler"
   ]
  },
  {
   "cell_type": "code",
   "execution_count": 10,
   "metadata": {},
   "outputs": [],
   "source": [
    "# Load ytree arbor and array of redshifts.\n",
    "a = ytree.load('full_arbor/full_arbor.h5')\n",
    "redshifts = np.load('stored_arrays/ytree_redshifts.npy')\n",
    "\n",
    "# Set the maximum redshift to be included in analysis.\n",
    "max_redshift = 12.\n",
    "\n",
    "# Identify any bad datasets.\n",
    "bad_redshifts = np.array([redshifts[23], redshifts[30]])\n",
    "# Create mask to exlude high redshifts and bad redshifts.\n",
    "mask = (redshifts < max_redshift)*[redshift not in bad_redshifts for redshift in redshifts]\n",
    "\n",
    "# Update redshift array to include only redshifts of interest.\n",
    "redshifts = redshifts[mask]"
   ]
  },
  {
   "cell_type": "code",
   "execution_count": 12,
   "metadata": {},
   "outputs": [
    {
     "name": "stderr",
     "output_type": "stream",
     "text": [
      "Setting up trees: 100%|██████████| 4681/4681 [00:00<00:00, 574600.87it/s]\n",
      "Getting fields: 100%|██████████| 4681/4681 [00:00<00:00, 154090.04it/s]\n",
      "Selecting halos: 100%|██████████| 4681/4681 [00:00<00:00, 12926.10it/s]\n"
     ]
    },
    {
     "name": "stdout",
     "output_type": "stream",
     "text": [
      "Number of progenitor halos: 55\n"
     ]
    },
    {
     "name": "stderr",
     "output_type": "stream",
     "text": [
      "Setting up trees: 100%|██████████| 4681/4681 [00:00<00:00, 589047.34it/s]\n",
      "Getting fields: 100%|██████████| 4681/4681 [00:00<00:00, 145110.07it/s]\n",
      "Selecting halos: 100%|██████████| 4681/4681 [00:00<00:00, 4723.02it/s]\n"
     ]
    },
    {
     "name": "stdout",
     "output_type": "stream",
     "text": [
      "Number of no-star halos: 17677\n",
      "Minimum mass (Msun): 4358867.967511095\n",
      "Maximum mass (Msun): 38861821.560513675\n"
     ]
    },
    {
     "name": "stderr",
     "output_type": "stream",
     "text": [
      "Setting up trees: 100%|██████████| 4681/4681 [00:00<00:00, 577660.85it/s]\n",
      "Getting fields:   0%|          | 0/4681 [00:00<?, ?it/s]/mnt/home/graceju1/anaconda3/lib/python3.7/site-packages/h5py/_hl/dataset.py:313: H5pyDeprecationWarning: dataset.value has been deprecated. Use dataset[()] instead.\n",
      "  \"Use dataset[()] instead.\", H5pyDeprecationWarning)\n",
      "Getting fields: 100%|██████████| 4681/4681 [00:00<00:00, 43815.37it/s]\n",
      "Selecting halos: 100%|██████████| 4681/4681 [00:02<00:00, 2257.14it/s]\n"
     ]
    }
   ],
   "source": [
    "# Set minimum mass threshold for virialization. ~250 DM particles.\n",
    "min_mass_threshold = 5e5\n",
    "\n",
    "# Select all Pop III progenitor halos.\n",
    "hlist = a.select_halos(\"tree['tree', 'is_popiii_progenitor'] == 1\", fields=['is_popiii_progenitor'])\n",
    "# Select only Pop III progenitor halos that are in redshifts of interest.\n",
    "progenitors = np.array([halo for halo in hlist if halo['redshift'] in redshifts])\n",
    "\n",
    "print('Number of progenitor halos:', len(progenitors))\n",
    "\n",
    "# Set the overall minimum mass to be the minimum of the Pop III progenitor halo masses.\n",
    "masses = [halo['sphere_mass'] for halo in progenitors]\n",
    "min_mass = np.min(masses)\n",
    "\n",
    "# Select all no-stars above the minimum mass threshold.\n",
    "hlist = a.select_halos(\"(tree['tree', 'sphere_stellar_mass'] == 0) & (tree['tree', 'mass'] > {})\"\\\n",
    "                       .format(min_mass_threshold), fields=['sphere_stellar_mass', 'mass'])\n",
    "# Select only no-star halos that are in redshifts of interest.\n",
    "no_star_halos = np.array([halo for halo in hlist if halo['redshift'] in redshifts])\n",
    "\n",
    "print('Number of no-star halos:', len(no_star_halos))\n",
    "\n",
    "# Set the overall maximum mass to be the maximum of the no-star halo masses.\n",
    "masses = [halo['sphere_mass'] for halo in no_star_halos]\n",
    "max_mass = np.max(masses)\n",
    "\n",
    "print('Minimum mass (Msun):', min_mass)\n",
    "print('Maximum mass (Msun):', max_mass)\n",
    "\n",
    "# Select halos within min_mass and max_mass.\n",
    "# Must be above minimum mass threshold for virialization.\n",
    "# Must either have no stars or be a Pop III progenitor halo.\n",
    "hlist = a.select_halos(\"(tree['tree', 'mass'] > {}) & (tree['tree', 'sphere_mass'] > {}) & \\\n",
    "                        (tree['tree', 'sphere_mass'] < {}) & ((tree['tree', 'sphere_stellar_mass'] == 0) | \\\n",
    "                        (tree['tree', 'is_popiii_progenitor'] == 1))\"\\\n",
    "                       .format(min_mass_threshold, min_mass, max_mass), fields=['mass', 'sphere_mass'])\n",
    "\n",
    "# Select only halos that are in the redshifts of interest.\n",
    "halos = np.array([halo for halo in hlist if halo['redshift'] in redshifts])"
   ]
  },
  {
   "cell_type": "code",
   "execution_count": 18,
   "metadata": {
    "scrolled": false
   },
   "outputs": [
    {
     "name": "stderr",
     "output_type": "stream",
     "text": [
      "/mnt/home/graceju1/anaconda3/lib/python3.7/site-packages/yt/units/yt_array.py:1373: RuntimeWarning: divide by zero encountered in log10\n",
      "  out_arr = func(np.asarray(inp), out=out, **kwargs)\n"
     ]
    },
    {
     "name": "stdout",
     "output_type": "stream",
     "text": [
      "Number of no-star halos: 1810\n",
      "Number of Pop III progenitors: 52\n"
     ]
    }
   ],
   "source": [
    "# Create arrays of relevant parameters for each halo.\n",
    "\n",
    "fields = ['sphere_mass', 'sphere_mass_growth', 'mass_growth_sign', 'sphere_mass_growth_derivative', \\\n",
    "          'growth_derivative_sign', 'number_of_mergers', 'neighbor_distance', 'sphere_J21_LW']\n",
    "\n",
    "\n",
    "# Record the number of halos and features that will be in the data array\n",
    "num_halos = len(halos)\n",
    "num_features = len(fields)\n",
    "\n",
    "# Create arrays to store data for each halo and to \n",
    "halo_data_array = np.zeros((num_halos, num_features))\n",
    "good_data = np.ones(num_halos, dtype=bool)\n",
    "\n",
    "# Iterate through each halo to add its features to the data array.\n",
    "for i, halo in enumerate(halos):\n",
    "    # Iterate through each field to be included to add to the data array.\n",
    "    for j, field in enumerate(fields):\n",
    "        # Don't take the log of a redshift\n",
    "        if field == 'redshift' or field == 'number_of_mergers':\n",
    "            halo_data_array[i, j] = halo[field]\n",
    "        elif field == 'mass_growth_sign':\n",
    "            halo_data_array[i, j] = np.sign(halo['sphere_mass_growth'])\n",
    "        elif field == 'growth_derivative_sign':\n",
    "            halo_data_array[i, j] = np.sign(halo['sphere_mass_growth_derivative'])\n",
    "        # Take log of absolute value of all other fields.\n",
    "        else:\n",
    "            halo_data_array[i, j] = np.log10(np.abs(halo[field]))\n",
    "            # If a field is 0, it is a new halo and has no information about its growth history\n",
    "            if halo[field] == 0.:\n",
    "                good_data[i] = False\n",
    "                \n",
    "# Do analysis only on good data.\n",
    "halo_data_array = halo_data_array[good_data]\n",
    "\n",
    "scaler = StandardScaler()\n",
    "X = scaler.fit_transform(halo_data_array)\n",
    "y = np.array([halo['is_popiii_progenitor'] for halo in halos], dtype=int)[good_data]\n",
    "\n",
    "print('Number of no-star halos:', len(y[y==0]))\n",
    "print('Number of Pop III progenitors:', len(y[y==1]))"
   ]
  },
  {
   "cell_type": "code",
   "execution_count": 19,
   "metadata": {},
   "outputs": [],
   "source": [
    "def gaussian_fit(halo_data_array):\n",
    "\n",
    "    num_variables = np.shape(halo_data_array)[0]\n",
    "\n",
    "    # Create the covariance matrix for the given variables\n",
    "    Sigma = np.cov(halo_data_array)\n",
    "    Sigma_inv = np.linalg.inv(Sigma)\n",
    "    Sigma_det = np.linalg.det(Sigma)\n",
    "\n",
    "    return 1/np.sqrt((2*np.pi)**num_variables*Sigma_det)\\\n",
    "            *np.exp(-.5*np.diagonal(np.matmul(halo_data_array.T, np.matmul(Sigma_inv, halo_data_array))))"
   ]
  },
  {
   "cell_type": "code",
   "execution_count": 20,
   "metadata": {},
   "outputs": [],
   "source": [
    "def mahalanobis_distance(halo_data_array):\n",
    "    \n",
    "    Sigma = np.cov(halo_data_array)\n",
    "    Sigma_inv = np.linalg.inv(Sigma)\n",
    "    \n",
    "    return np.diagonal(np.matmul(halo_data_array.T, np.matmul(Sigma_inv, halo_data_array)))"
   ]
  },
  {
   "cell_type": "code",
   "execution_count": 22,
   "metadata": {},
   "outputs": [
    {
     "data": {
      "image/png": "[encoded data removed]",
      "text/plain": [
       "<Figure size 600x400 with 1 Axes>"
      ]
     },
     "metadata": {},
     "output_type": "display_data"
    }
   ],
   "source": [
    "#fit = mahalanobis_distance(X.T)\n",
    "fit = np.log10(mahalanobis_distance(X.T))\n",
    "\n",
    "fig = plt.figure()\n",
    "fig.patch.set_facecolor('white')\n",
    "fig.set_dpi(100)\n",
    "\n",
    "sns.kdeplot(fit[y==0], shade=True, label='no stars')\n",
    "sns.kdeplot(fit[y==1], shade=True, label='progenitor')\n",
    "#plt.xlim(-16, 0)\n",
    "plt.xlabel(r'$log (d(\\mathbf{x}))$')\n",
    "plt.legend()\n",
    "plt.title('Distribution of Mahalanobis Distances')\n",
    "plt.savefig('mahalanobis_distances.png')\n",
    "plt.show()"
   ]
  },
  {
   "cell_type": "code",
   "execution_count": null,
   "metadata": {},
   "outputs": [],
   "source": []
  }
 ],
 "metadata": {
  "kernelspec": {
   "display_name": "Python 3",
   "language": "python",
   "name": "python3"
  },
  "language_info": {
   "codemirror_mode": {
    "name": "ipython",
    "version": 3
   },
   "file_extension": ".py",
   "mimetype": "text/x-python",
   "name": "python",
   "nbconvert_exporter": "python",
   "pygments_lexer": "ipython3",
   "version": "3.7.3"
  }
 },
 "nbformat": 4,
 "nbformat_minor": 2
}
